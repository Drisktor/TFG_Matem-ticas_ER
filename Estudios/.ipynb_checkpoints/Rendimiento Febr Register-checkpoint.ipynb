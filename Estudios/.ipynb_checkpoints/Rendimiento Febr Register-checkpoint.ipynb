{
 "cells": [
  {
   "cell_type": "code",
   "execution_count": null,
   "metadata": {},
   "outputs": [],
   "source": [
    "#Notebook para analizar el tiempo de ejecucion y resultados del algoritmo sobre los dataset FEBRL\n",
    "\n",
    "\n",
    "from recordlinkage.datasets import load_febrl1 , load_febrl2, load_febrl3, load_febrl4\n",
    "import numpy as np\n",
    "import matplotlib.pyplot as plt"
   ]
  },
  {
   "cell_type": "code",
   "execution_count": null,
   "metadata": {},
   "outputs": [],
   "source": [
    "\n",
    "\n",
    "#data = load_febrl1()\n",
    "data = load_febrl4()[0]\n",
    "df = data\n",
    "df.fillna('', inplace=True)\n",
    "df['id'] = np.arange(len(df))\n"
   ]
  },
  {
   "cell_type": "code",
   "execution_count": null,
   "metadata": {
    "scrolled": true
   },
   "outputs": [],
   "source": [
    "df['surname'].value_counts()\n",
    "#surname 151 -109\n",
    "#given_name 112 -85\n",
    "#adress1 98 -18   x ------- 3\n",
    "#adress2 420 -52\n",
    "#suburb 55 - 40   x ----------- 5\n",
    "#postcode 30 -26   x -------- 6\n",
    "# date of birth 94 -3 \n",
    "#soc_sec_id 1- 1"
   ]
  },
  {
   "cell_type": "code",
   "execution_count": null,
   "metadata": {
    "scrolled": true
   },
   "outputs": [],
   "source": [
    "from pyspark import SparkContext\n",
    "import numpy as np\n",
    "from funciones import *\n",
    "sc = SparkContext()"
   ]
  },
  {
   "cell_type": "code",
   "execution_count": null,
   "metadata": {},
   "outputs": [],
   "source": [
    "def mapeo_desde_df(x, l = 11):\n",
    "    datos = x\n",
    "    print(datos)\n",
    "    for i in range(len(datos)):\n",
    "        if i == l-1:\n",
    "            datos[i] = set([str(datos[i])])\n",
    "        else:\n",
    "            datos[i] = set([datos[i]])\n",
    "    return datos"
   ]
  },
  {
   "cell_type": "code",
   "execution_count": null,
   "metadata": {},
   "outputs": [],
   "source": [
    "\n"
   ]
  },
  {
   "cell_type": "code",
   "execution_count": null,
   "metadata": {},
   "outputs": [],
   "source": [
    "#Definición de parámetros\n",
    "\n",
    "orden = [5,6,3]\n",
    "longitud = len(orden)\n",
    "factores=[0 for x in range(len(orden))]\n",
    "factores_origen = [0.25,0.25,0.5,0.25,0.25,0.25,0.75,0.25,0.5,0.5] #Colocados en orden de los campos originales\n",
    "for i in range(len(orden)):\n",
    "    factores[i] = factores_origen[:orden[i]]+factores_origen[orden[i]+1:]\n",
    " \n",
    "distancias=[0 for x in range(len(orden))]\n",
    "distancias_origen = [L_distance_vacios for x in range(len(factores_origen))]\n",
    "for i in range(len(orden)):\n",
    "    distancias[i] = distancias_origen[:orden[i]]+distancias_origen[orden[i]+1:]\n",
    "multiplicador = 1/5 #a menos mult, mas tiempo de ejecucion y más duplicados se detectan\n",
    "for i in range(len(factores)):\n",
    "    factores[i] = [multiplicador*x for x in factores[i]]\n",
    "\n",
    "list_of_maps = [seleccionar_map(orden[0])]\n",
    "list_of_matchs = []\n",
    "for i in range(len(orden)-1):\n",
    "    list_of_maps.append(seleccionar_map_intermedio(orden[i+1],orden[i]))\n",
    "for i in range(len(orden)):\n",
    "    list_of_matchs.append(seleccionar_match(factores[i],distancias[i]))\n",
    "last_match = seleccionar_match(factores[0],distancias[0], excluyentes = 2) "
   ]
  },
  {
   "cell_type": "code",
   "execution_count": null,
   "metadata": {},
   "outputs": [],
   "source": [
    "rdd = sc.parallelize(df.values.tolist())\n",
    "initial_number = rdd.count()\n",
    "rdd_op = rdd.map(mapeo_desde_df)\n",
    "import time\n",
    "\n",
    "time1=time.time()\n",
    "\n",
    "\n",
    "for i in range(len(orden)):\n",
    "    rdd_op = rdd_op.map(list_of_maps[i]).flatMap(separar_keys).groupByKey().flatMap(list_of_matchs[i])\n",
    "rdd_op = rdd_op.map(seleccionar_map_intermedio(orden[0],orden[i])).map(copiar_leading_set).flatMap(separar_keys)\n",
    "rdd_op = rdd_op.groupByKey().flatMap(last_match).map(orden_final)\n",
    "rdd_op = rdd_op.map(map_registros).groupByKey().map(merge_registros)\n",
    "result = rdd_op.collect()\n",
    "time2 = time.time()\n",
    "#Contar elementos por paso"
   ]
  },
  {
   "cell_type": "code",
   "execution_count": null,
   "metadata": {},
   "outputs": [],
   "source": []
  },
  {
   "cell_type": "code",
   "execution_count": null,
   "metadata": {
    "scrolled": true
   },
   "outputs": [],
   "source": [
    "final_number = len(result)\n",
    "print('Inicialmente había {} entradas'.format(initial_number))\n",
    "print('Finalmente hay {} entradas'.format(final_number))\n",
    "print('Se han detectado {} entradas erroneas'.format(initial_number-final_number))\n",
    "print('Esto es un {} % del total'.format(100*(initial_number-final_number)/initial_number))\n",
    "print('El algoritmo ha tardado {} segundos en ejecutarse'.format(time2-time1))"
   ]
  },
  {
   "cell_type": "code",
   "execution_count": null,
   "metadata": {},
   "outputs": [],
   "source": []
  },
  {
   "cell_type": "code",
   "execution_count": null,
   "metadata": {},
   "outputs": [],
   "source": []
  }
 ],
 "metadata": {
  "kernelspec": {
   "display_name": "Python 3",
   "language": "python",
   "name": "python3"
  },
  "language_info": {
   "codemirror_mode": {
    "name": "ipython",
    "version": 3
   },
   "file_extension": ".py",
   "mimetype": "text/x-python",
   "name": "python",
   "nbconvert_exporter": "python",
   "pygments_lexer": "ipython3",
   "version": "3.6.9"
  }
 },
 "nbformat": 4,
 "nbformat_minor": 2
}
